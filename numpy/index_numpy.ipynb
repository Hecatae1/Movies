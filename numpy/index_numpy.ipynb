{
 "cells": [
  {
   "cell_type": "code",
   "execution_count": 14,
   "id": "f1c15e30",
   "metadata": {},
   "outputs": [
    {
     "name": "stdout",
     "output_type": "stream",
     "text": [
      "[11 12 13 14 15]\n",
      "[ 2  4  6  8 10]\n",
      "\n",
      "\n",
      "[[1 2 3]\n",
      " [4 5 6]\n",
      " [7 8 9]]\n",
      "\n",
      "\n",
      "[5 7 9]\n",
      "\n",
      "\n",
      "[1.         1.41421356 1.73205081]\n",
      "[[1.         1.41421356 1.73205081]\n",
      " [2.         2.23606798 2.44948974]\n",
      " [2.64575131 2.82842712 3.        ]]\n",
      "\n",
      "\n",
      "[ 54.59815003 148.4131591  403.42879349]\n",
      "\n",
      " exp above\n",
      "2.0\n",
      "5.0\n"
     ]
    }
   ],
   "source": [
    "#numpy array allows you to perform mathematical operations on entire arrays without the need for explicit loops. and manipulate large datasets efficiently.\n",
    "import numpy as np\n",
    "\n",
    "array_id = np.array([1, 2, 3, 4, 5])\n",
    "matrix = np.array([[1, 2, 3], [4, 5, 6], [7,8,9]])\n",
    "result_Add = array_id + 10\n",
    "result_Multiply = array_id * 2\n",
    "\n",
    "print(result_Add)\n",
    "print(result_Multiply)\n",
    "print(\"\\n\")\n",
    "print(matrix)\n",
    "print(\"\\n\")\n",
    "\n",
    "arr_a = np.array([1, 2, 3])\n",
    "arr_b = np.array([4, 5, 6])\n",
    "result = arr_a + arr_b\n",
    "print(result)\n",
    "\n",
    "#numpy functions for mathematical operations\n",
    "sqrt = np.sqrt(arr_a)\n",
    "sqrt1 =np.sqrt(matrix)\n",
    "exp = np.exp(arr_b) #exp is e raised to the power of each element in the array\n",
    "exp1 = np.exp(matrix)\n",
    "\n",
    "mean = np.mean(arr_a)\n",
    "mean1 = np.mean(matrix)\n",
    "\n",
    "std_dev = np.std(arr_b)\n",
    "\n",
    "arr_broadcast = np.array([1,2,4])\n",
    "\n",
    "print(\"\\n\")\n",
    "print(sqrt)\n",
    "print(sqrt1)\n",
    "print(\"\\n\")\n",
    "print(exp)\n",
    "print(\"\\n exp above\")\n",
    "print(mean)\n",
    "print(mean1)"
   ]
  },
  {
   "cell_type": "code",
   "execution_count": null,
   "id": "dcd77182",
   "metadata": {},
   "outputs": [
    {
     "name": "stdout",
     "output_type": "stream",
     "text": [
      "[12.75511104]\n",
      "[0.84244977]\n",
      "[[0.97857804 0.89421416 0.53242549]\n",
      " [0.60202083 0.42397885 0.9123764 ]\n",
      " [0.20537299 0.60234565 0.06855292]\n",
      " [0.01378067 0.32910131 0.20791351]]\n"
     ]
    }
   ],
   "source": [
    "import numpy as np\n",
    "random_uniform = np.random.uniform(0,69,1)\n",
    "random_normal = np.random.normal(0,1,1) #random.normal gives us random numbers from a normal (Gaussian) distribution with a specified mean and standard deviation.\n",
    "print(random_uniform)\n",
    "print(random_normal)\n",
    "\n",
    "random_array = np.random.rand(4,3) #rand gives us random 3x3 array from a uniform distribution over [0, 1), why from 0 to 1 because rand generates numbers in the range [0.0, 1.0)\n",
    "print(random_array)"
   ]
  }
 ],
 "metadata": {
  "kernelspec": {
   "display_name": "Python 3",
   "language": "python",
   "name": "python3"
  },
  "language_info": {
   "codemirror_mode": {
    "name": "ipython",
    "version": 3
   },
   "file_extension": ".py",
   "mimetype": "text/x-python",
   "name": "python",
   "nbconvert_exporter": "python",
   "pygments_lexer": "ipython3",
   "version": "3.13.6"
  }
 },
 "nbformat": 4,
 "nbformat_minor": 5
}
